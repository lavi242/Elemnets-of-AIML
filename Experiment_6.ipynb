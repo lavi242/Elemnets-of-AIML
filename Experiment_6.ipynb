{
  "nbformat": 4,
  "nbformat_minor": 0,
  "metadata": {
    "colab": {
      "provenance": []
    },
    "kernelspec": {
      "name": "python3",
      "display_name": "Python 3"
    },
    "language_info": {
      "name": "python"
    }
  },
  "cells": [
    {
      "cell_type": "code",
      "execution_count": 3,
      "metadata": {
        "colab": {
          "base_uri": "https://localhost:8080/"
        },
        "id": "TmmPAap1kJfh",
        "outputId": "88b182bb-46f7-4c7d-9ce5-282a1e278fcd"
      },
      "outputs": [
        {
          "output_type": "stream",
          "name": "stdout",
          "text": [
            "Missing values after imputation:\n",
            "Year                           0\n",
            "Industry_aggregation_NZSIOC    0\n",
            "Industry_code_NZSIOC           0\n",
            "Industry_name_NZSIOC           0\n",
            "Units                          0\n",
            "Variable_code                  0\n",
            "Variable_name                  0\n",
            "Variable_category              0\n",
            "Value                          0\n",
            "Industry_code_ANZSIC06         0\n",
            "dtype: int64\n",
            "Data size after removing outliers: (50985, 10)\n"
          ]
        }
      ],
      "source": [
        "import pandas as pd\n",
        "import numpy as np\n",
        "from sklearn.impute import SimpleImputer\n",
        "\n",
        "# Import the dataset\n",
        "data = pd.read_csv('business.csv')\n",
        "\n",
        "# Select only numerical columns for imputation\n",
        "numerical_cols = data.select_dtypes(include='number').columns\n",
        "\n",
        "# Handling missing values using mean imputation for numerical columns\n",
        "imputer = SimpleImputer(strategy='mean')\n",
        "\n",
        "# Create a new DataFrame to avoid chained assignment warning\n",
        "data[numerical_cols] = pd.DataFrame(imputer.fit_transform(data[numerical_cols]), columns=numerical_cols)\n",
        "\n",
        "# Check if imputation worked correctly\n",
        "print(\"Missing values after imputation:\")\n",
        "print(data.isnull().sum())\n",
        "# Handling outliers using z-score method\n",
        "from scipy import stats\n",
        "\n",
        "# Calculate z-scores for numerical columns\n",
        "z_scores = np.abs(stats.zscore(data.select_dtypes(include='number')))\n",
        "\n",
        "# Setting a threshold for identifying outliers (z-score > 3)\n",
        "outliers = np.where(z_scores > 3)\n",
        "\n",
        "# Remove the outliers\n",
        "data_no_outliers = data[(z_scores < 3).all(axis=1)]\n",
        "\n",
        "print(f\"Data size after removing outliers: {data_no_outliers.shape}\")\n",
        "\n",
        "# Export the preprocessed dataset\n",
        "data_no_outliers.to_csv('preprocessed_dataset.csv', index=False)"
      ]
    },
    {
      "cell_type": "code",
      "source": [],
      "metadata": {
        "id": "OiTLjPBJkYYX"
      },
      "execution_count": null,
      "outputs": []
    }
  ]
}